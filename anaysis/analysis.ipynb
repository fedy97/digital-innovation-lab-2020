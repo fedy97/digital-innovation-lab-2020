{
  "nbformat": 4,
  "nbformat_minor": 0,
  "metadata": {
    "kernelspec": {
      "name": "python3",
      "display_name": "Python 3"
    },
    "colab": {
      "name": "analysis.ipynb",
      "provenance": [],
      "collapsed_sections": []
    }
  },
  "cells": [
    {
      "cell_type": "code",
      "metadata": {
        "id": "Rgdc8szk3Iud",
        "colab_type": "code",
        "colab": {}
      },
      "source": [
        "from google.colab import drive\n",
        "drive.mount('/content/drive')"
      ],
      "execution_count": null,
      "outputs": []
    },
    {
      "cell_type": "code",
      "metadata": {
        "id": "V3xwsOWd3PlO",
        "colab_type": "code",
        "colab": {}
      },
      "source": [
        "%cd drive/My\\ Drive"
      ],
      "execution_count": null,
      "outputs": []
    },
    {
      "cell_type": "code",
      "metadata": {
        "id": "531SyBBp3V5k",
        "colab_type": "code",
        "colab": {}
      },
      "source": [
        "%cd Colab\\ Notebooks"
      ],
      "execution_count": null,
      "outputs": []
    },
    {
      "cell_type": "markdown",
      "metadata": {
        "id": "vR0PtZc841eV",
        "colab_type": "text"
      },
      "source": [
        "We decided to implement a algorithm for ML that will help the system to predict a potential crowded place. In this particular case, we retrieved a dataset of a gym, that contains really informative data for our purpose. The goal is to learn from that dataset. \n",
        "\n",
        "The next lines will initialize our data, displaying the first 5 rows."
      ]
    },
    {
      "cell_type": "code",
      "metadata": {
        "id": "XSlgDp9a24cA",
        "colab_type": "code",
        "colab": {
          "base_uri": "https://localhost:8080/",
          "height": 293
        },
        "outputId": "c8b01ef3-6b0c-4cf4-f1b0-9a92ec39fd5f"
      },
      "source": [
        "# Import libraries necessary for this project\n",
        "from __future__ import division\n",
        "import numpy as np\n",
        "import pandas as pd\n",
        "from time import time\n",
        "from IPython.display import display # Allows the use of display() for DataFrames\n",
        "\n",
        "\n",
        "# Import supplementary visualization code visuals.py\n",
        "import visuals as vs\n",
        "\n",
        "# Pretty display for notebooks\n",
        "%matplotlib inline\n",
        "\n",
        "# Load the Census dataset\n",
        "data = pd.read_csv(\"data.csv\")\n",
        "\n",
        "# Success - Display the first record\n",
        "display(data.head())"
      ],
      "execution_count": null,
      "outputs": [
        {
          "output_type": "display_data",
          "data": {
            "text/html": [
              "<div>\n",
              "<style scoped>\n",
              "    .dataframe tbody tr th:only-of-type {\n",
              "        vertical-align: middle;\n",
              "    }\n",
              "\n",
              "    .dataframe tbody tr th {\n",
              "        vertical-align: top;\n",
              "    }\n",
              "\n",
              "    .dataframe thead th {\n",
              "        text-align: right;\n",
              "    }\n",
              "</style>\n",
              "<table border=\"1\" class=\"dataframe\">\n",
              "  <thead>\n",
              "    <tr style=\"text-align: right;\">\n",
              "      <th></th>\n",
              "      <th>number_people</th>\n",
              "      <th>date</th>\n",
              "      <th>timestamp</th>\n",
              "      <th>day_of_week</th>\n",
              "      <th>is_weekend</th>\n",
              "      <th>is_holiday</th>\n",
              "      <th>temperature</th>\n",
              "      <th>is_start_of_semester</th>\n",
              "      <th>is_during_semester</th>\n",
              "      <th>month</th>\n",
              "      <th>hour</th>\n",
              "    </tr>\n",
              "  </thead>\n",
              "  <tbody>\n",
              "    <tr>\n",
              "      <th>0</th>\n",
              "      <td>37</td>\n",
              "      <td>2015-08-14 17:00:11-07:00</td>\n",
              "      <td>61211</td>\n",
              "      <td>4</td>\n",
              "      <td>0</td>\n",
              "      <td>0</td>\n",
              "      <td>71.76</td>\n",
              "      <td>0</td>\n",
              "      <td>0</td>\n",
              "      <td>8</td>\n",
              "      <td>17</td>\n",
              "    </tr>\n",
              "    <tr>\n",
              "      <th>1</th>\n",
              "      <td>45</td>\n",
              "      <td>2015-08-14 17:20:14-07:00</td>\n",
              "      <td>62414</td>\n",
              "      <td>4</td>\n",
              "      <td>0</td>\n",
              "      <td>0</td>\n",
              "      <td>71.76</td>\n",
              "      <td>0</td>\n",
              "      <td>0</td>\n",
              "      <td>8</td>\n",
              "      <td>17</td>\n",
              "    </tr>\n",
              "    <tr>\n",
              "      <th>2</th>\n",
              "      <td>40</td>\n",
              "      <td>2015-08-14 17:30:15-07:00</td>\n",
              "      <td>63015</td>\n",
              "      <td>4</td>\n",
              "      <td>0</td>\n",
              "      <td>0</td>\n",
              "      <td>71.76</td>\n",
              "      <td>0</td>\n",
              "      <td>0</td>\n",
              "      <td>8</td>\n",
              "      <td>17</td>\n",
              "    </tr>\n",
              "    <tr>\n",
              "      <th>3</th>\n",
              "      <td>44</td>\n",
              "      <td>2015-08-14 17:40:16-07:00</td>\n",
              "      <td>63616</td>\n",
              "      <td>4</td>\n",
              "      <td>0</td>\n",
              "      <td>0</td>\n",
              "      <td>71.76</td>\n",
              "      <td>0</td>\n",
              "      <td>0</td>\n",
              "      <td>8</td>\n",
              "      <td>17</td>\n",
              "    </tr>\n",
              "    <tr>\n",
              "      <th>4</th>\n",
              "      <td>45</td>\n",
              "      <td>2015-08-14 17:50:17-07:00</td>\n",
              "      <td>64217</td>\n",
              "      <td>4</td>\n",
              "      <td>0</td>\n",
              "      <td>0</td>\n",
              "      <td>71.76</td>\n",
              "      <td>0</td>\n",
              "      <td>0</td>\n",
              "      <td>8</td>\n",
              "      <td>17</td>\n",
              "    </tr>\n",
              "  </tbody>\n",
              "</table>\n",
              "</div>"
            ],
            "text/plain": [
              "   number_people                       date  ...  month  hour\n",
              "0             37  2015-08-14 17:00:11-07:00  ...      8    17\n",
              "1             45  2015-08-14 17:20:14-07:00  ...      8    17\n",
              "2             40  2015-08-14 17:30:15-07:00  ...      8    17\n",
              "3             44  2015-08-14 17:40:16-07:00  ...      8    17\n",
              "4             45  2015-08-14 17:50:17-07:00  ...      8    17\n",
              "\n",
              "[5 rows x 11 columns]"
            ]
          },
          "metadata": {
            "tags": []
          }
        }
      ]
    },
    {
      "cell_type": "markdown",
      "metadata": {
        "id": "HCieK0CE3yEn",
        "colab_type": "text"
      },
      "source": [
        "### Implementation: Data Exploration\n",
        "\n",
        "- The total number of records, `n_records`\n",
        "- The total number of alerts, `n_alerts`\n",
        "- The total number of no alerts, `n_noalerts`\n"
      ]
    },
    {
      "cell_type": "code",
      "metadata": {
        "id": "I5rjVfFp32Sp",
        "colab_type": "code",
        "colab": {
          "base_uri": "https://localhost:8080/",
          "height": 69
        },
        "outputId": "c360fe34-ca3a-4022-ed0c-6b119f808727"
      },
      "source": [
        "n_records = len(data)\n",
        "\n",
        "n_alerts = len(data[data['number_people'] > 30])\n",
        "\n",
        "n_noalerts = len(data[data['number_people'] <= 30])\n",
        "\n",
        "# Print the results\n",
        "print(\"Total number of records: {}\".format(n_records))\n",
        "print(\"Alerts count: {}\".format(n_alerts))\n",
        "print(\"No Alerts count: {}\".format(n_noalerts))"
      ],
      "execution_count": null,
      "outputs": [
        {
          "output_type": "stream",
          "text": [
            "Total number of records: 62184\n",
            "Alerts count: 28021\n",
            "No Alerts count: 34163\n"
          ],
          "name": "stdout"
        }
      ]
    },
    {
      "cell_type": "markdown",
      "metadata": {
        "id": "rIpBd1su5OtB",
        "colab_type": "text"
      },
      "source": [
        "----\n",
        "## Preparing the Data\n",
        "Before data can be used as input for machine learning algorithms, it has to be cleaned, formatted, and restructured — this is typically known as **preprocessing**."
      ]
    },
    {
      "cell_type": "markdown",
      "metadata": {
        "id": "4cO-UUiv60_F",
        "colab_type": "text"
      },
      "source": [
        "first, we convert the field `number_people` in a binary variable, so if there are more than a certain threshold, we put 1 (*raise alert*) otherwise 0. For our system, it is ok to put this value to `30`."
      ]
    },
    {
      "cell_type": "code",
      "metadata": {
        "id": "5ReUhkSe7Mce",
        "colab_type": "code",
        "colab": {
          "base_uri": "https://localhost:8080/",
          "height": 293
        },
        "outputId": "64722b8a-855c-45d7-b0b2-3394f6d46209"
      },
      "source": [
        "threshold = 30\n",
        "data['number_people'] = np.where(data['number_people']>threshold, 1, 0)\n",
        "\n",
        "display(data.head())"
      ],
      "execution_count": null,
      "outputs": [
        {
          "output_type": "display_data",
          "data": {
            "text/html": [
              "<div>\n",
              "<style scoped>\n",
              "    .dataframe tbody tr th:only-of-type {\n",
              "        vertical-align: middle;\n",
              "    }\n",
              "\n",
              "    .dataframe tbody tr th {\n",
              "        vertical-align: top;\n",
              "    }\n",
              "\n",
              "    .dataframe thead th {\n",
              "        text-align: right;\n",
              "    }\n",
              "</style>\n",
              "<table border=\"1\" class=\"dataframe\">\n",
              "  <thead>\n",
              "    <tr style=\"text-align: right;\">\n",
              "      <th></th>\n",
              "      <th>number_people</th>\n",
              "      <th>date</th>\n",
              "      <th>timestamp</th>\n",
              "      <th>day_of_week</th>\n",
              "      <th>is_weekend</th>\n",
              "      <th>is_holiday</th>\n",
              "      <th>temperature</th>\n",
              "      <th>is_start_of_semester</th>\n",
              "      <th>is_during_semester</th>\n",
              "      <th>month</th>\n",
              "      <th>hour</th>\n",
              "    </tr>\n",
              "  </thead>\n",
              "  <tbody>\n",
              "    <tr>\n",
              "      <th>0</th>\n",
              "      <td>1</td>\n",
              "      <td>2015-08-14 17:00:11-07:00</td>\n",
              "      <td>61211</td>\n",
              "      <td>4</td>\n",
              "      <td>0</td>\n",
              "      <td>0</td>\n",
              "      <td>71.76</td>\n",
              "      <td>0</td>\n",
              "      <td>0</td>\n",
              "      <td>8</td>\n",
              "      <td>17</td>\n",
              "    </tr>\n",
              "    <tr>\n",
              "      <th>1</th>\n",
              "      <td>1</td>\n",
              "      <td>2015-08-14 17:20:14-07:00</td>\n",
              "      <td>62414</td>\n",
              "      <td>4</td>\n",
              "      <td>0</td>\n",
              "      <td>0</td>\n",
              "      <td>71.76</td>\n",
              "      <td>0</td>\n",
              "      <td>0</td>\n",
              "      <td>8</td>\n",
              "      <td>17</td>\n",
              "    </tr>\n",
              "    <tr>\n",
              "      <th>2</th>\n",
              "      <td>1</td>\n",
              "      <td>2015-08-14 17:30:15-07:00</td>\n",
              "      <td>63015</td>\n",
              "      <td>4</td>\n",
              "      <td>0</td>\n",
              "      <td>0</td>\n",
              "      <td>71.76</td>\n",
              "      <td>0</td>\n",
              "      <td>0</td>\n",
              "      <td>8</td>\n",
              "      <td>17</td>\n",
              "    </tr>\n",
              "    <tr>\n",
              "      <th>3</th>\n",
              "      <td>1</td>\n",
              "      <td>2015-08-14 17:40:16-07:00</td>\n",
              "      <td>63616</td>\n",
              "      <td>4</td>\n",
              "      <td>0</td>\n",
              "      <td>0</td>\n",
              "      <td>71.76</td>\n",
              "      <td>0</td>\n",
              "      <td>0</td>\n",
              "      <td>8</td>\n",
              "      <td>17</td>\n",
              "    </tr>\n",
              "    <tr>\n",
              "      <th>4</th>\n",
              "      <td>1</td>\n",
              "      <td>2015-08-14 17:50:17-07:00</td>\n",
              "      <td>64217</td>\n",
              "      <td>4</td>\n",
              "      <td>0</td>\n",
              "      <td>0</td>\n",
              "      <td>71.76</td>\n",
              "      <td>0</td>\n",
              "      <td>0</td>\n",
              "      <td>8</td>\n",
              "      <td>17</td>\n",
              "    </tr>\n",
              "  </tbody>\n",
              "</table>\n",
              "</div>"
            ],
            "text/plain": [
              "   number_people                       date  ...  month  hour\n",
              "0              1  2015-08-14 17:00:11-07:00  ...      8    17\n",
              "1              1  2015-08-14 17:20:14-07:00  ...      8    17\n",
              "2              1  2015-08-14 17:30:15-07:00  ...      8    17\n",
              "3              1  2015-08-14 17:40:16-07:00  ...      8    17\n",
              "4              1  2015-08-14 17:50:17-07:00  ...      8    17\n",
              "\n",
              "[5 rows x 11 columns]"
            ]
          },
          "metadata": {
            "tags": []
          }
        }
      ]
    },
    {
      "cell_type": "markdown",
      "metadata": {
        "id": "YbA4wp5l8wIu",
        "colab_type": "text"
      },
      "source": [
        "now we can split features and target:\n",
        "- features: the data from which we want to learn.\n",
        "- targets: the data we want to predict. in this case, it is known a priori."
      ]
    },
    {
      "cell_type": "code",
      "metadata": {
        "id": "PiudUy0F80cC",
        "colab_type": "code",
        "colab": {}
      },
      "source": [
        "targets = data['number_people']\n",
        "\n",
        "features = data.drop('number_people', axis = 1)"
      ],
      "execution_count": null,
      "outputs": []
    },
    {
      "cell_type": "markdown",
      "metadata": {
        "id": "AneZA_wX6c6t",
        "colab_type": "text"
      },
      "source": [
        "Then, it is often good practice to perform some type of scaling on numerical features. Applying a scaling to the data does not change the shape of each feature's distribution. However, normalization ensures that each feature is treated equally when applying supervised learners. Note that once scaling is applied, observing the data in its raw form will no longer have the same original meaning, as exampled below."
      ]
    },
    {
      "cell_type": "code",
      "metadata": {
        "id": "xPR1cPc55PMl",
        "colab_type": "code",
        "colab": {
          "base_uri": "https://localhost:8080/",
          "height": 206
        },
        "outputId": "513a6c7b-e37c-4c3a-bf27-d97b1b0a1476"
      },
      "source": [
        "from sklearn.preprocessing import MinMaxScaler\n",
        "\n",
        "# Initialize a scaler, then apply it to the features\n",
        "scaler = MinMaxScaler() # default=(0, 1)\n",
        "numerical = ['timestamp', 'temperature', 'month', 'hour']\n",
        "\n",
        "features_minmax_transform = pd.DataFrame(data = features)\n",
        "features_minmax_transform[numerical] = scaler.fit_transform(features_minmax_transform[numerical])\n",
        "\n",
        "display(features_minmax_transform.head())"
      ],
      "execution_count": null,
      "outputs": [
        {
          "output_type": "display_data",
          "data": {
            "text/html": [
              "<div>\n",
              "<style scoped>\n",
              "    .dataframe tbody tr th:only-of-type {\n",
              "        vertical-align: middle;\n",
              "    }\n",
              "\n",
              "    .dataframe tbody tr th {\n",
              "        vertical-align: top;\n",
              "    }\n",
              "\n",
              "    .dataframe thead th {\n",
              "        text-align: right;\n",
              "    }\n",
              "</style>\n",
              "<table border=\"1\" class=\"dataframe\">\n",
              "  <thead>\n",
              "    <tr style=\"text-align: right;\">\n",
              "      <th></th>\n",
              "      <th>date</th>\n",
              "      <th>timestamp</th>\n",
              "      <th>day_of_week</th>\n",
              "      <th>is_weekend</th>\n",
              "      <th>is_holiday</th>\n",
              "      <th>temperature</th>\n",
              "      <th>is_start_of_semester</th>\n",
              "      <th>is_during_semester</th>\n",
              "      <th>month</th>\n",
              "      <th>hour</th>\n",
              "    </tr>\n",
              "  </thead>\n",
              "  <tbody>\n",
              "    <tr>\n",
              "      <th>0</th>\n",
              "      <td>2015-08-14 17:00:11-07:00</td>\n",
              "      <td>0.708469</td>\n",
              "      <td>4</td>\n",
              "      <td>0</td>\n",
              "      <td>0</td>\n",
              "      <td>0.685703</td>\n",
              "      <td>0</td>\n",
              "      <td>0</td>\n",
              "      <td>0.636364</td>\n",
              "      <td>0.73913</td>\n",
              "    </tr>\n",
              "    <tr>\n",
              "      <th>1</th>\n",
              "      <td>2015-08-14 17:20:14-07:00</td>\n",
              "      <td>0.722393</td>\n",
              "      <td>4</td>\n",
              "      <td>0</td>\n",
              "      <td>0</td>\n",
              "      <td>0.685703</td>\n",
              "      <td>0</td>\n",
              "      <td>0</td>\n",
              "      <td>0.636364</td>\n",
              "      <td>0.73913</td>\n",
              "    </tr>\n",
              "    <tr>\n",
              "      <th>2</th>\n",
              "      <td>2015-08-14 17:30:15-07:00</td>\n",
              "      <td>0.729349</td>\n",
              "      <td>4</td>\n",
              "      <td>0</td>\n",
              "      <td>0</td>\n",
              "      <td>0.685703</td>\n",
              "      <td>0</td>\n",
              "      <td>0</td>\n",
              "      <td>0.636364</td>\n",
              "      <td>0.73913</td>\n",
              "    </tr>\n",
              "    <tr>\n",
              "      <th>3</th>\n",
              "      <td>2015-08-14 17:40:16-07:00</td>\n",
              "      <td>0.736305</td>\n",
              "      <td>4</td>\n",
              "      <td>0</td>\n",
              "      <td>0</td>\n",
              "      <td>0.685703</td>\n",
              "      <td>0</td>\n",
              "      <td>0</td>\n",
              "      <td>0.636364</td>\n",
              "      <td>0.73913</td>\n",
              "    </tr>\n",
              "    <tr>\n",
              "      <th>4</th>\n",
              "      <td>2015-08-14 17:50:17-07:00</td>\n",
              "      <td>0.743261</td>\n",
              "      <td>4</td>\n",
              "      <td>0</td>\n",
              "      <td>0</td>\n",
              "      <td>0.685703</td>\n",
              "      <td>0</td>\n",
              "      <td>0</td>\n",
              "      <td>0.636364</td>\n",
              "      <td>0.73913</td>\n",
              "    </tr>\n",
              "  </tbody>\n",
              "</table>\n",
              "</div>"
            ],
            "text/plain": [
              "                        date  timestamp  ...     month     hour\n",
              "0  2015-08-14 17:00:11-07:00   0.708469  ...  0.636364  0.73913\n",
              "1  2015-08-14 17:20:14-07:00   0.722393  ...  0.636364  0.73913\n",
              "2  2015-08-14 17:30:15-07:00   0.729349  ...  0.636364  0.73913\n",
              "3  2015-08-14 17:40:16-07:00   0.736305  ...  0.636364  0.73913\n",
              "4  2015-08-14 17:50:17-07:00   0.743261  ...  0.636364  0.73913\n",
              "\n",
              "[5 rows x 10 columns]"
            ]
          },
          "metadata": {
            "tags": []
          }
        }
      ]
    },
    {
      "cell_type": "markdown",
      "metadata": {
        "id": "7Bwsn2Zb9zA4",
        "colab_type": "text"
      },
      "source": [
        "no one hot encoding is needed for this dataset."
      ]
    },
    {
      "cell_type": "markdown",
      "metadata": {
        "id": "RaaSKHSV96e3",
        "colab_type": "text"
      },
      "source": [
        "### Shuffle and Split Data\n",
        "Now all _categorical variables_ have been converted into numerical features but `date`, because `timestamp` will be used instead, and all numerical features have been normalized. We will now split the data (both features and their labels) into training and test sets. 80% of the data will be used for training and 20% for testing."
      ]
    },
    {
      "cell_type": "code",
      "metadata": {
        "id": "tKsJJ8Lp92S_",
        "colab_type": "code",
        "colab": {
          "base_uri": "https://localhost:8080/",
          "height": 52
        },
        "outputId": "a27b1f40-16c6-4a77-c7d6-9e99da876a31"
      },
      "source": [
        "# Import train_test_split\n",
        "from sklearn.model_selection import train_test_split\n",
        "\n",
        "final_features = features_minmax_transform.drop('date', axis = 1)\n",
        "\n",
        "X_train, X_test, y_train, y_test = train_test_split(final_features, \n",
        "                                                    targets, \n",
        "                                                    test_size = 0.2, \n",
        "                                                    random_state = 0)\n",
        "\n",
        "# Show the results of the split\n",
        "print(\"Training set has {} samples.\".format(X_train.shape[0]))\n",
        "print(\"Testing set has {} samples.\".format(X_test.shape[0]))"
      ],
      "execution_count": null,
      "outputs": [
        {
          "output_type": "stream",
          "text": [
            "Training set has 49747 samples.\n",
            "Testing set has 12437 samples.\n"
          ],
          "name": "stdout"
        }
      ]
    },
    {
      "cell_type": "code",
      "metadata": {
        "id": "tG1VPqxo-sXu",
        "colab_type": "code",
        "colab": {}
      },
      "source": [
        "from sklearn.metrics import accuracy_score\n",
        "from sklearn.metrics import fbeta_score\n",
        "\n",
        "def train_predict(learner, sample_size, X_train, y_train, X_test, y_test): \n",
        "    '''\n",
        "    inputs:\n",
        "       - learner: the learning algorithm to be trained and predicted on\n",
        "       - sample_size: the size of samples (number) to be drawn from training set\n",
        "       - X_train: features training set\n",
        "       - y_train: income training set\n",
        "       - X_test: features testing set\n",
        "       - y_test: income testing set\n",
        "    '''\n",
        "    \n",
        "    results = {}\n",
        "    \n",
        "    start = time() # Get start time\n",
        "    learner.fit(X_train[:sample_size], y_train[:sample_size])\n",
        "    end = time() # Get end time\n",
        "    \n",
        "    results['train_time'] = end - start\n",
        "        \n",
        "    start = time()\n",
        "    predictions_test = learner.predict(X_test)\n",
        "    predictions_train = learner.predict(X_train[:300])\n",
        "    end = time()\n",
        "\n",
        "    results['pred_time'] = end - start\n",
        "            \n",
        "    results['acc_train'] = accuracy_score(predictions_train, y_train[:300])\n",
        "        \n",
        "    results['acc_test'] = accuracy_score(predictions_test, y_test)\n",
        "\n",
        "    results['f_train'] = fbeta_score(predictions_train, y_train[:300], 1.0)\n",
        "        \n",
        "    results['f_test'] = fbeta_score(predictions_test, y_test, 1.0)\n",
        "       \n",
        "    # Success\n",
        "    print(\"{} trained on {} samples.\".format(learner.__class__.__name__, sample_size))\n",
        "        \n",
        "    # Return the results\n",
        "    return results"
      ],
      "execution_count": null,
      "outputs": []
    },
    {
      "cell_type": "markdown",
      "metadata": {
        "id": "CEPLe4Fe-vBK",
        "colab_type": "text"
      },
      "source": [
        "For this kind of dataset, we chose a decision tree classifier, because of the entropy of some entries. In order to use the best possible hyperparameters, we used the GridSearch. For what concerns the scorer, fbeta with `beta=1` is a good tradeoff for both precision and recall. WE also included a accuracy score, in order to see the difference between the 2 scorers."
      ]
    },
    {
      "cell_type": "code",
      "metadata": {
        "id": "nIXKosu1-xnh",
        "colab_type": "code",
        "colab": {
          "base_uri": "https://localhost:8080/",
          "height": 503
        },
        "outputId": "deed72c6-6a7a-4427-ca7e-1d8eca7460d5"
      },
      "source": [
        "from sklearn.model_selection import GridSearchCV\n",
        "from sklearn.metrics import make_scorer\n",
        "from sklearn.tree import DecisionTreeClassifier\n",
        "\n",
        "clf = DecisionTreeClassifier()\n",
        "\n",
        "parameters = {\n",
        "    'min_samples_split' : [2, 4, 6, 8, 10],\n",
        "    'max_depth': [2,4,6,8,10]\n",
        "}\n",
        "\n",
        "scorer = make_scorer(fbeta_score, beta=1.0)\n",
        "\n",
        "grid_obj = GridSearchCV(clf, parameters, scoring=scorer,n_jobs=10, verbose=10)\n",
        "\n",
        "grid_fit = grid_obj.fit(X_train, y_train)\n",
        "\n",
        "# Get the estimator\n",
        "best_clf = grid_fit.best_estimator_\n",
        "print(best_clf)\n",
        "# Make predictions using the unoptimized and model\n",
        "predictions = (clf.fit(X_train, y_train)).predict(X_test)\n",
        "best_predictions = best_clf.predict(X_test)\n",
        "\n",
        "# Report the before-and-afterscores\n",
        "print(\"Unoptimized model\\n------\")\n",
        "print(\"Accuracy score on testing data: {:.4f}\".format(accuracy_score(y_test, predictions)))\n",
        "print(\"F-score on testing data: {:.4f}\".format(fbeta_score(y_test, predictions, beta = 0.5)))\n",
        "print(\"\\nOptimized Model\\n------\")\n",
        "print(\"Final accuracy score on the testing data: {:.4f}\".format(accuracy_score(y_test, best_predictions)))\n",
        "print(\"Final F-score on the testing data: {:.4f}\".format(fbeta_score(y_test, best_predictions, beta = 0.5)))"
      ],
      "execution_count": null,
      "outputs": [
        {
          "output_type": "stream",
          "text": [
            "Fitting 5 folds for each of 25 candidates, totalling 125 fits\n"
          ],
          "name": "stdout"
        },
        {
          "output_type": "stream",
          "text": [
            "[Parallel(n_jobs=10)]: Using backend LokyBackend with 10 concurrent workers.\n",
            "[Parallel(n_jobs=10)]: Batch computation too fast (0.1044s.) Setting batch_size=2.\n",
            "[Parallel(n_jobs=10)]: Done   5 tasks      | elapsed:    0.4s\n",
            "[Parallel(n_jobs=10)]: Done  12 tasks      | elapsed:    0.7s\n",
            "[Parallel(n_jobs=10)]: Done  22 tasks      | elapsed:    1.1s\n",
            "[Parallel(n_jobs=10)]: Done  40 tasks      | elapsed:    2.5s\n",
            "[Parallel(n_jobs=10)]: Batch computation too slow (2.0130s.) Setting batch_size=1.\n",
            "[Parallel(n_jobs=10)]: Done  62 tasks      | elapsed:    4.4s\n",
            "[Parallel(n_jobs=10)]: Done  84 tasks      | elapsed:    6.3s\n",
            "[Parallel(n_jobs=10)]: Done 105 tasks      | elapsed:    8.0s\n",
            "[Parallel(n_jobs=10)]: Done 119 out of 125 | elapsed:    9.6s remaining:    0.5s\n",
            "[Parallel(n_jobs=10)]: Done 125 out of 125 | elapsed:    9.8s finished\n"
          ],
          "name": "stderr"
        },
        {
          "output_type": "stream",
          "text": [
            "DecisionTreeClassifier(ccp_alpha=0.0, class_weight=None, criterion='gini',\n",
            "                       max_depth=10, max_features=None, max_leaf_nodes=None,\n",
            "                       min_impurity_decrease=0.0, min_impurity_split=None,\n",
            "                       min_samples_leaf=1, min_samples_split=2,\n",
            "                       min_weight_fraction_leaf=0.0, presort='deprecated',\n",
            "                       random_state=None, splitter='best')\n",
            "Unoptimized model\n",
            "------\n",
            "Accuracy score on testing data: 0.8873\n",
            "F-score on testing data: 0.8751\n",
            "\n",
            "Optimized Model\n",
            "------\n",
            "Final accuracy score on the testing data: 0.8502\n",
            "Final F-score on the testing data: 0.8224\n"
          ],
          "name": "stdout"
        }
      ]
    },
    {
      "cell_type": "code",
      "metadata": {
        "id": "QS9bBRzSBH-T",
        "colab_type": "code",
        "colab": {
          "base_uri": "https://localhost:8080/",
          "height": 369
        },
        "outputId": "985f6dde-930d-4b53-df41-6444f184e83c"
      },
      "source": [
        "importances = best_clf.feature_importances_\n",
        "\n",
        "# Plot\n",
        "vs.feature_plot(importances, X_train, y_train)"
      ],
      "execution_count": null,
      "outputs": [
        {
          "output_type": "display_data",
          "data": {
            "image/png": "[encoded data removed]",
            "text/plain": [
              "<Figure size 648x360 with 1 Axes>"
            ]
          },
          "metadata": {
            "tags": [],
            "needs_background": "light"
          }
        }
      ]
    },
    {
      "cell_type": "markdown",
      "metadata": {
        "id": "VyiL916I_1T-",
        "colab_type": "text"
      },
      "source": [
        "as we can see, there are some columns that are informative, and other that are not. "
      ]
    },
    {
      "cell_type": "markdown",
      "metadata": {
        "id": "hez1lq18EMQa",
        "colab_type": "text"
      },
      "source": [
        "Now that we trained our model, we are free to feed it with new data and see the prediction, for example for a particular day in the future."
      ]
    }
  ]
}